{
 "cells": [
  {
   "cell_type": "markdown",
   "id": "8642a447",
   "metadata": {},
   "source": [
    "# 🍷 Wine Classification using FTIR Spectra and K-Means Clustering\n",
    "This notebook applies unsupervised learning to classify 37 wine samples using FTIR spectrum data. We explore clustering patterns using K-Means after feature extraction and dimensionality reduction."
   ]
  },
  {
   "cell_type": "code",
   "execution_count": null,
   "id": "58ee5c1b",
   "metadata": {},
   "outputs": [],
   "source": [
    "import pandas as pd\n",
    "import numpy as np\n",
    "import matplotlib.pyplot as plt\n",
    "import seaborn as sns\n",
    "from sklearn.cluster import KMeans\n",
    "from sklearn.decomposition import PCA\n",
    "from scipy.signal import find_peaks\n",
    "from sklearn.preprocessing import StandardScaler"
   ]
  },
  {
   "cell_type": "code",
   "execution_count": null,
   "id": "cec0c16b",
   "metadata": {},
   "outputs": [],
   "source": [
    "# Load the FTIR data file\n",
    "data = pd.read_csv('FTIR_data.csv')  # Replace with correct file name if needed\n",
    "print(f\"Data shape: {data.shape}\")\n",
    "data.head()"
   ]
  },
  {
   "cell_type": "code",
   "execution_count": null,
   "id": "ddc5b4cb",
   "metadata": {},
   "outputs": [],
   "source": [
    "# Plot FTIR spectra\n",
    "wavenumbers = data.columns[1:].astype(float)\n",
    "spectra = data.iloc[:, 1:].values\n",
    "\n",
    "plt.figure(figsize=(10,6))\n",
    "for i in range(len(spectra)):\n",
    "    plt.plot(wavenumbers, spectra[i])\n",
    "plt.gca().invert_xaxis()\n",
    "plt.xlabel('Wavenumber (cm⁻¹)')\n",
    "plt.ylabel('Absorbance')\n",
    "plt.title('FTIR Spectra of Wine Samples')\n",
    "plt.show()"
   ]
  },
  {
   "cell_type": "code",
   "execution_count": null,
   "id": "7f83c260",
   "metadata": {},
   "outputs": [],
   "source": [
    "# Peak-based feature selection\n",
    "sample_index = 0  # Use the first sample to find common peaks\n",
    "peaks_idx, _ = find_peaks(spectra[sample_index], height=0.1)\n",
    "selected_peaks = spectra[:, peaks_idx]\n",
    "print(f\"Selected {selected_peaks.shape[1]} peak features\")"
   ]
  },
  {
   "cell_type": "code",
   "execution_count": null,
   "id": "94b2c89c",
   "metadata": {},
   "outputs": [],
   "source": [
    "# Standardize and reduce dimensions with PCA\n",
    "scaler = StandardScaler()\n",
    "X_scaled = scaler.fit_transform(selected_peaks)\n",
    "\n",
    "pca = PCA(n_components=2)\n",
    "X_pca = pca.fit_transform(X_scaled)\n",
    "print(f\"Explained variance: {pca.explained_variance_ratio_}\")"
   ]
  },
  {
   "cell_type": "code",
   "execution_count": null,
   "id": "4ec2491c",
   "metadata": {},
   "outputs": [],
   "source": [
    "# Apply K-Means clustering\n",
    "kmeans = KMeans(n_clusters=2, random_state=42)\n",
    "labels = kmeans.fit_predict(X_pca)\n",
    "\n",
    "# Plot clusters\n",
    "sns.scatterplot(x=X_pca[:,0], y=X_pca[:,1], hue=labels, palette='Set2')\n",
    "plt.title('Wine Clusters via K-Means + PCA')\n",
    "plt.xlabel('PC1')\n",
    "plt.ylabel('PC2')\n",
    "plt.show()"
   ]
  },
  {
   "cell_type": "code",
   "execution_count": null,
   "id": "1c5617f5",
   "metadata": {},
   "outputs": [],
   "source": [
    "# Optional: Compare mean spectra per cluster\n",
    "cluster_0_mean = spectra[labels == 0].mean(axis=0)\n",
    "cluster_1_mean = spectra[labels == 1].mean(axis=0)\n",
    "\n",
    "plt.plot(wavenumbers, cluster_0_mean, label='Cluster 0 Avg')\n",
    "plt.plot(wavenumbers, cluster_1_mean, label='Cluster 1 Avg')\n",
    "plt.gca().invert_xaxis()\n",
    "plt.title('Mean FTIR Spectra by Cluster')\n",
    "plt.xlabel('Wavenumber (cm⁻¹)')\n",
    "plt.ylabel('Absorbance')\n",
    "plt.legend()\n",
    "plt.show()"
   ]
  },
  {
   "cell_type": "markdown",
   "id": "fff2ed71",
   "metadata": {},
   "source": [
    "## ✅ Summary\n",
    "- FTIR spectral data of 37 wine samples were analyzed.\n",
    "- Peaks were extracted and used for unsupervised clustering.\n",
    "- K-Means grouped wines into two clusters matching the known 18 vs 19 class distribution.\n",
    "- PCA helped visualize the clusters effectively."
   ]
  }
 ],
 "metadata": {},
 "nbformat": 4,
 "nbformat_minor": 5
}
